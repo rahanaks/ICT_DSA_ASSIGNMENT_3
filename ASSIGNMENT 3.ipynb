{
 "cells": [
  {
   "cell_type": "code",
   "execution_count": 2,
   "id": "c8f02816",
   "metadata": {},
   "outputs": [],
   "source": [
    "# importing wanted libraries\n",
    "\n",
    "import numpy as np\n",
    "import pandas as pd\n",
    "import matplotlib.pyplot as plt\n",
    "import seaborn as sns"
   ]
  },
  {
   "cell_type": "code",
   "execution_count": 3,
   "id": "1ae62c8e",
   "metadata": {},
   "outputs": [],
   "source": [
    "# load data \n",
    "\n",
    "data = pd.read_csv(r\"C:\\Users\\VIPIN\\Desktop\\DSA_ICTAK\\ASSIGNMENT\\ASSIGNMENT.3\\StudentsPerformance.csv\")"
   ]
  },
  {
   "cell_type": "code",
   "execution_count": 5,
   "id": "3674492b",
   "metadata": {},
   "outputs": [
    {
     "data": {
      "text/html": [
       "<div>\n",
       "<style scoped>\n",
       "    .dataframe tbody tr th:only-of-type {\n",
       "        vertical-align: middle;\n",
       "    }\n",
       "\n",
       "    .dataframe tbody tr th {\n",
       "        vertical-align: top;\n",
       "    }\n",
       "\n",
       "    .dataframe thead th {\n",
       "        text-align: right;\n",
       "    }\n",
       "</style>\n",
       "<table border=\"1\" class=\"dataframe\">\n",
       "  <thead>\n",
       "    <tr style=\"text-align: right;\">\n",
       "      <th></th>\n",
       "      <th>gender</th>\n",
       "      <th>race/ethnicity</th>\n",
       "      <th>parental level of education</th>\n",
       "      <th>lunch</th>\n",
       "      <th>test preparation course</th>\n",
       "      <th>math score</th>\n",
       "      <th>reading score</th>\n",
       "      <th>writing score</th>\n",
       "    </tr>\n",
       "  </thead>\n",
       "  <tbody>\n",
       "    <tr>\n",
       "      <th>0</th>\n",
       "      <td>female</td>\n",
       "      <td>group C</td>\n",
       "      <td>some high school</td>\n",
       "      <td>free/reduced</td>\n",
       "      <td>none</td>\n",
       "      <td>0</td>\n",
       "      <td>17</td>\n",
       "      <td>10</td>\n",
       "    </tr>\n",
       "    <tr>\n",
       "      <th>1</th>\n",
       "      <td>female</td>\n",
       "      <td>group B</td>\n",
       "      <td>high school</td>\n",
       "      <td>free/reduced</td>\n",
       "      <td>none</td>\n",
       "      <td>8</td>\n",
       "      <td>24</td>\n",
       "      <td>23</td>\n",
       "    </tr>\n",
       "    <tr>\n",
       "      <th>2</th>\n",
       "      <td>female</td>\n",
       "      <td>group B</td>\n",
       "      <td>some high school</td>\n",
       "      <td>free/reduced</td>\n",
       "      <td>none</td>\n",
       "      <td>18</td>\n",
       "      <td>32</td>\n",
       "      <td>28</td>\n",
       "    </tr>\n",
       "    <tr>\n",
       "      <th>3</th>\n",
       "      <td>female</td>\n",
       "      <td>group B</td>\n",
       "      <td>some college</td>\n",
       "      <td>standard</td>\n",
       "      <td>none</td>\n",
       "      <td>11</td>\n",
       "      <td>38</td>\n",
       "      <td>32</td>\n",
       "    </tr>\n",
       "    <tr>\n",
       "      <th>4</th>\n",
       "      <td>female</td>\n",
       "      <td>group C</td>\n",
       "      <td>some college</td>\n",
       "      <td>free/reduced</td>\n",
       "      <td>none</td>\n",
       "      <td>22</td>\n",
       "      <td>39</td>\n",
       "      <td>33</td>\n",
       "    </tr>\n",
       "    <tr>\n",
       "      <th>5</th>\n",
       "      <td>female</td>\n",
       "      <td>group B</td>\n",
       "      <td>high school</td>\n",
       "      <td>free/reduced</td>\n",
       "      <td>completed</td>\n",
       "      <td>23</td>\n",
       "      <td>44</td>\n",
       "      <td>36</td>\n",
       "    </tr>\n",
       "    <tr>\n",
       "      <th>6</th>\n",
       "      <td>female</td>\n",
       "      <td>group B</td>\n",
       "      <td>some high school</td>\n",
       "      <td>free/reduced</td>\n",
       "      <td>none</td>\n",
       "      <td>24</td>\n",
       "      <td>38</td>\n",
       "      <td>27</td>\n",
       "    </tr>\n",
       "    <tr>\n",
       "      <th>7</th>\n",
       "      <td>female</td>\n",
       "      <td>group D</td>\n",
       "      <td>associate's degree</td>\n",
       "      <td>free/reduced</td>\n",
       "      <td>none</td>\n",
       "      <td>26</td>\n",
       "      <td>31</td>\n",
       "      <td>38</td>\n",
       "    </tr>\n",
       "    <tr>\n",
       "      <th>8</th>\n",
       "      <td>female</td>\n",
       "      <td>group D</td>\n",
       "      <td>some high school</td>\n",
       "      <td>free/reduced</td>\n",
       "      <td>none</td>\n",
       "      <td>19</td>\n",
       "      <td>34</td>\n",
       "      <td>32</td>\n",
       "    </tr>\n",
       "    <tr>\n",
       "      <th>9</th>\n",
       "      <td>female</td>\n",
       "      <td>group C</td>\n",
       "      <td>high school</td>\n",
       "      <td>standard</td>\n",
       "      <td>none</td>\n",
       "      <td>29</td>\n",
       "      <td>29</td>\n",
       "      <td>30</td>\n",
       "    </tr>\n",
       "    <tr>\n",
       "      <th>10</th>\n",
       "      <td>female</td>\n",
       "      <td>group C</td>\n",
       "      <td>some high school</td>\n",
       "      <td>free/reduced</td>\n",
       "      <td>completed</td>\n",
       "      <td>29</td>\n",
       "      <td>40</td>\n",
       "      <td>44</td>\n",
       "    </tr>\n",
       "    <tr>\n",
       "      <th>11</th>\n",
       "      <td>female</td>\n",
       "      <td>group D</td>\n",
       "      <td>bachelor's degree</td>\n",
       "      <td>free/reduced</td>\n",
       "      <td>none</td>\n",
       "      <td>29</td>\n",
       "      <td>41</td>\n",
       "      <td>47</td>\n",
       "    </tr>\n",
       "    <tr>\n",
       "      <th>12</th>\n",
       "      <td>female</td>\n",
       "      <td>group B</td>\n",
       "      <td>some high school</td>\n",
       "      <td>standard</td>\n",
       "      <td>completed</td>\n",
       "      <td>32</td>\n",
       "      <td>51</td>\n",
       "      <td>44</td>\n",
       "    </tr>\n",
       "    <tr>\n",
       "      <th>13</th>\n",
       "      <td>female</td>\n",
       "      <td>group C</td>\n",
       "      <td>some college</td>\n",
       "      <td>free/reduced</td>\n",
       "      <td>none</td>\n",
       "      <td>32</td>\n",
       "      <td>39</td>\n",
       "      <td>33</td>\n",
       "    </tr>\n",
       "    <tr>\n",
       "      <th>14</th>\n",
       "      <td>female</td>\n",
       "      <td>group E</td>\n",
       "      <td>some high school</td>\n",
       "      <td>free/reduced</td>\n",
       "      <td>none</td>\n",
       "      <td>32</td>\n",
       "      <td>34</td>\n",
       "      <td>38</td>\n",
       "    </tr>\n",
       "    <tr>\n",
       "      <th>15</th>\n",
       "      <td>female</td>\n",
       "      <td>group C</td>\n",
       "      <td>high school</td>\n",
       "      <td>free/reduced</td>\n",
       "      <td>none</td>\n",
       "      <td>33</td>\n",
       "      <td>41</td>\n",
       "      <td>43</td>\n",
       "    </tr>\n",
       "    <tr>\n",
       "      <th>16</th>\n",
       "      <td>female</td>\n",
       "      <td>group A</td>\n",
       "      <td>high school</td>\n",
       "      <td>free/reduced</td>\n",
       "      <td>completed</td>\n",
       "      <td>34</td>\n",
       "      <td>48</td>\n",
       "      <td>41</td>\n",
       "    </tr>\n",
       "    <tr>\n",
       "      <th>17</th>\n",
       "      <td>female</td>\n",
       "      <td>group C</td>\n",
       "      <td>high school</td>\n",
       "      <td>free/reduced</td>\n",
       "      <td>none</td>\n",
       "      <td>34</td>\n",
       "      <td>42</td>\n",
       "      <td>39</td>\n",
       "    </tr>\n",
       "    <tr>\n",
       "      <th>18</th>\n",
       "      <td>female</td>\n",
       "      <td>group C</td>\n",
       "      <td>high school</td>\n",
       "      <td>free/reduced</td>\n",
       "      <td>none</td>\n",
       "      <td>26</td>\n",
       "      <td>61</td>\n",
       "      <td>54</td>\n",
       "    </tr>\n",
       "    <tr>\n",
       "      <th>19</th>\n",
       "      <td>female</td>\n",
       "      <td>group C</td>\n",
       "      <td>some college</td>\n",
       "      <td>free/reduced</td>\n",
       "      <td>none</td>\n",
       "      <td>25</td>\n",
       "      <td>44</td>\n",
       "      <td>43</td>\n",
       "    </tr>\n",
       "  </tbody>\n",
       "</table>\n",
       "</div>"
      ],
      "text/plain": [
       "    gender race/ethnicity parental level of education         lunch  \\\n",
       "0   female        group C            some high school  free/reduced   \n",
       "1   female        group B                 high school  free/reduced   \n",
       "2   female        group B            some high school  free/reduced   \n",
       "3   female        group B                some college      standard   \n",
       "4   female        group C                some college  free/reduced   \n",
       "5   female        group B                 high school  free/reduced   \n",
       "6   female        group B            some high school  free/reduced   \n",
       "7   female        group D          associate's degree  free/reduced   \n",
       "8   female        group D            some high school  free/reduced   \n",
       "9   female        group C                 high school      standard   \n",
       "10  female        group C            some high school  free/reduced   \n",
       "11  female        group D           bachelor's degree  free/reduced   \n",
       "12  female        group B            some high school      standard   \n",
       "13  female        group C                some college  free/reduced   \n",
       "14  female        group E            some high school  free/reduced   \n",
       "15  female        group C                 high school  free/reduced   \n",
       "16  female        group A                 high school  free/reduced   \n",
       "17  female        group C                 high school  free/reduced   \n",
       "18  female        group C                 high school  free/reduced   \n",
       "19  female        group C                some college  free/reduced   \n",
       "\n",
       "   test preparation course  math score  reading score  writing score  \n",
       "0                     none           0             17             10  \n",
       "1                     none           8             24             23  \n",
       "2                     none          18             32             28  \n",
       "3                     none          11             38             32  \n",
       "4                     none          22             39             33  \n",
       "5                completed          23             44             36  \n",
       "6                     none          24             38             27  \n",
       "7                     none          26             31             38  \n",
       "8                     none          19             34             32  \n",
       "9                     none          29             29             30  \n",
       "10               completed          29             40             44  \n",
       "11                    none          29             41             47  \n",
       "12               completed          32             51             44  \n",
       "13                    none          32             39             33  \n",
       "14                    none          32             34             38  \n",
       "15                    none          33             41             43  \n",
       "16               completed          34             48             41  \n",
       "17                    none          34             42             39  \n",
       "18                    none          26             61             54  \n",
       "19                    none          25             44             43  "
      ]
     },
     "execution_count": 5,
     "metadata": {},
     "output_type": "execute_result"
    }
   ],
   "source": [
    "# first 20 rows of data\n",
    "\n",
    "data.head(20)"
   ]
  },
  {
   "cell_type": "code",
   "execution_count": 6,
   "id": "c40ee97e",
   "metadata": {},
   "outputs": [
    {
     "data": {
      "text/plain": [
       "(1000, 8)"
      ]
     },
     "execution_count": 6,
     "metadata": {},
     "output_type": "execute_result"
    }
   ],
   "source": [
    "# rows and columns\n",
    "\n",
    "data.shape"
   ]
  },
  {
   "cell_type": "code",
   "execution_count": 7,
   "id": "0f47ab63",
   "metadata": {
    "scrolled": false
   },
   "outputs": [
    {
     "name": "stdout",
     "output_type": "stream",
     "text": [
      "<class 'pandas.core.frame.DataFrame'>\n",
      "RangeIndex: 1000 entries, 0 to 999\n",
      "Data columns (total 8 columns):\n",
      " #   Column                       Non-Null Count  Dtype \n",
      "---  ------                       --------------  ----- \n",
      " 0   gender                       1000 non-null   object\n",
      " 1   race/ethnicity               1000 non-null   object\n",
      " 2   parental level of education  1000 non-null   object\n",
      " 3   lunch                        1000 non-null   object\n",
      " 4   test preparation course      1000 non-null   object\n",
      " 5   math score                   1000 non-null   int64 \n",
      " 6   reading score                1000 non-null   int64 \n",
      " 7   writing score                1000 non-null   int64 \n",
      "dtypes: int64(3), object(5)\n",
      "memory usage: 62.6+ KB\n"
     ]
    }
   ],
   "source": [
    "# information of data\n",
    "\n",
    "data.info() "
   ]
  },
  {
   "cell_type": "code",
   "execution_count": 8,
   "id": "bcd8c3fe",
   "metadata": {},
   "outputs": [
    {
     "data": {
      "text/html": [
       "<div>\n",
       "<style scoped>\n",
       "    .dataframe tbody tr th:only-of-type {\n",
       "        vertical-align: middle;\n",
       "    }\n",
       "\n",
       "    .dataframe tbody tr th {\n",
       "        vertical-align: top;\n",
       "    }\n",
       "\n",
       "    .dataframe thead th {\n",
       "        text-align: right;\n",
       "    }\n",
       "</style>\n",
       "<table border=\"1\" class=\"dataframe\">\n",
       "  <thead>\n",
       "    <tr style=\"text-align: right;\">\n",
       "      <th></th>\n",
       "      <th>math score</th>\n",
       "      <th>reading score</th>\n",
       "      <th>writing score</th>\n",
       "    </tr>\n",
       "  </thead>\n",
       "  <tbody>\n",
       "    <tr>\n",
       "      <th>count</th>\n",
       "      <td>1000.000000</td>\n",
       "      <td>1000.000000</td>\n",
       "      <td>1000.000000</td>\n",
       "    </tr>\n",
       "    <tr>\n",
       "      <th>mean</th>\n",
       "      <td>66.001000</td>\n",
       "      <td>69.195000</td>\n",
       "      <td>68.119000</td>\n",
       "    </tr>\n",
       "    <tr>\n",
       "      <th>std</th>\n",
       "      <td>15.569567</td>\n",
       "      <td>14.706436</td>\n",
       "      <td>15.226381</td>\n",
       "    </tr>\n",
       "    <tr>\n",
       "      <th>min</th>\n",
       "      <td>0.000000</td>\n",
       "      <td>17.000000</td>\n",
       "      <td>10.000000</td>\n",
       "    </tr>\n",
       "    <tr>\n",
       "      <th>25%</th>\n",
       "      <td>57.000000</td>\n",
       "      <td>59.000000</td>\n",
       "      <td>58.000000</td>\n",
       "    </tr>\n",
       "    <tr>\n",
       "      <th>50%</th>\n",
       "      <td>66.000000</td>\n",
       "      <td>70.000000</td>\n",
       "      <td>69.000000</td>\n",
       "    </tr>\n",
       "    <tr>\n",
       "      <th>75%</th>\n",
       "      <td>77.000000</td>\n",
       "      <td>79.250000</td>\n",
       "      <td>79.000000</td>\n",
       "    </tr>\n",
       "    <tr>\n",
       "      <th>max</th>\n",
       "      <td>100.000000</td>\n",
       "      <td>100.000000</td>\n",
       "      <td>100.000000</td>\n",
       "    </tr>\n",
       "  </tbody>\n",
       "</table>\n",
       "</div>"
      ],
      "text/plain": [
       "        math score  reading score  writing score\n",
       "count  1000.000000    1000.000000    1000.000000\n",
       "mean     66.001000      69.195000      68.119000\n",
       "std      15.569567      14.706436      15.226381\n",
       "min       0.000000      17.000000      10.000000\n",
       "25%      57.000000      59.000000      58.000000\n",
       "50%      66.000000      70.000000      69.000000\n",
       "75%      77.000000      79.250000      79.000000\n",
       "max     100.000000     100.000000     100.000000"
      ]
     },
     "execution_count": 8,
     "metadata": {},
     "output_type": "execute_result"
    }
   ],
   "source": [
    "# Description of dataset\n",
    "\n",
    "data.describe()"
   ]
  },
  {
   "cell_type": "code",
   "execution_count": 34,
   "id": "bcaa3bf6",
   "metadata": {},
   "outputs": [
    {
     "data": {
      "text/plain": [
       "gender                         0\n",
       "race/ethnicity                 0\n",
       "parental level of education    0\n",
       "lunch                          0\n",
       "test preparation course        0\n",
       "math score                     0\n",
       "reading score                  0\n",
       "writing score                  0\n",
       "dtype: int64"
      ]
     },
     "execution_count": 34,
     "metadata": {},
     "output_type": "execute_result"
    }
   ],
   "source": [
    "# find null value, here 0 null values\n",
    "\n",
    "data.isnull().sum()"
   ]
  },
  {
   "cell_type": "code",
   "execution_count": 35,
   "id": "dc932cce",
   "metadata": {
    "scrolled": true
   },
   "outputs": [
    {
     "data": {
      "text/plain": [
       "gender                          2\n",
       "race/ethnicity                  5\n",
       "parental level of education     6\n",
       "lunch                           2\n",
       "test preparation course         2\n",
       "math score                     85\n",
       "reading score                  72\n",
       "writing score                  77\n",
       "dtype: int64"
      ]
     },
     "execution_count": 35,
     "metadata": {},
     "output_type": "execute_result"
    }
   ],
   "source": [
    "# unique values for each column\n",
    "\n",
    "data.nunique()"
   ]
  },
  {
   "cell_type": "code",
   "execution_count": 40,
   "id": "7b1ea709",
   "metadata": {},
   "outputs": [
    {
     "name": "stdout",
     "output_type": "stream",
     "text": [
      "-0.40117390503900024\n",
      "-0.2883616397714267\n",
      "-0.3015107763930539\n"
     ]
    }
   ],
   "source": [
    "#  measures the asymmetry of the distribution\n",
    "\n",
    "print(data['math score'].skew())\n",
    "print(data['reading score'].skew())\n",
    "print(data['writing score'].skew())\n"
   ]
  },
  {
   "cell_type": "code",
   "execution_count": 9,
   "id": "be695a53",
   "metadata": {},
   "outputs": [
    {
     "data": {
      "text/plain": [
       "66.001"
      ]
     },
     "execution_count": 9,
     "metadata": {},
     "output_type": "execute_result"
    }
   ],
   "source": [
    "data['math score'].mean()"
   ]
  },
  {
   "cell_type": "code",
   "execution_count": 108,
   "id": "571a9429",
   "metadata": {},
   "outputs": [
    {
     "data": {
      "text/plain": [
       "70.0"
      ]
     },
     "execution_count": 108,
     "metadata": {},
     "output_type": "execute_result"
    }
   ],
   "source": [
    "data['reading score'].median()"
   ]
  },
  {
   "cell_type": "code",
   "execution_count": 109,
   "id": "a1019d49",
   "metadata": {},
   "outputs": [
    {
     "data": {
      "text/plain": [
       "0    74\n",
       "Name: writing score, dtype: int64"
      ]
     },
     "execution_count": 109,
     "metadata": {},
     "output_type": "execute_result"
    }
   ],
   "source": [
    "data['writing score'].mode()"
   ]
  },
  {
   "cell_type": "code",
   "execution_count": 15,
   "id": "96334e8a",
   "metadata": {},
   "outputs": [],
   "source": [
    "import statistics as stat"
   ]
  },
  {
   "cell_type": "code",
   "execution_count": 16,
   "id": "0c6d7d96",
   "metadata": {},
   "outputs": [
    {
     "data": {
      "text/plain": [
       "66.001"
      ]
     },
     "execution_count": 16,
     "metadata": {},
     "output_type": "execute_result"
    }
   ],
   "source": [
    "stat.mean(data['math score'])"
   ]
  },
  {
   "cell_type": "code",
   "execution_count": 17,
   "id": "cd3e6efa",
   "metadata": {},
   "outputs": [
    {
     "data": {
      "text/plain": [
       "242.4114104104104"
      ]
     },
     "execution_count": 17,
     "metadata": {},
     "output_type": "execute_result"
    }
   ],
   "source": [
    "stat.variance(data['math score'])"
   ]
  },
  {
   "cell_type": "code",
   "execution_count": 18,
   "id": "49cc2bcb",
   "metadata": {},
   "outputs": [
    {
     "data": {
      "text/plain": [
       "15.569566802272002"
      ]
     },
     "execution_count": 18,
     "metadata": {},
     "output_type": "execute_result"
    }
   ],
   "source": [
    "stat.stdev(data['math score'])"
   ]
  },
  {
   "cell_type": "markdown",
   "id": "d2ce2d49",
   "metadata": {},
   "source": [
    "# 1. Find out how many males and females participated in the test."
   ]
  },
  {
   "cell_type": "code",
   "execution_count": 50,
   "id": "8390a641",
   "metadata": {},
   "outputs": [
    {
     "data": {
      "image/png": "[encoded data removed]",
      "text/plain": [
       "<Figure size 640x480 with 1 Axes>"
      ]
     },
     "metadata": {},
     "output_type": "display_data"
    }
   ],
   "source": [
    "data['gender'].value_counts(normalize = True)\n",
    "data['gender'].value_counts(dropna = False).plot.bar(color = 'hotpink', )\n",
    "plt.title('Comparison of Males and Females', size = 20, color='indigo')\n",
    "plt.xlabel('gender')\n",
    "plt.ylabel('count')\n",
    "plt.grid(color='gray', axis='y')\n",
    "plt.show()"
   ]
  },
  {
   "cell_type": "markdown",
   "id": "55d11781",
   "metadata": {},
   "source": [
    "By comparing the count of males and females based on the height of the bars, count of female is more than male. By using value_counts() method we can find out exact number for female and male separately."
   ]
  },
  {
   "cell_type": "code",
   "execution_count": 19,
   "id": "f6ba9b29",
   "metadata": {},
   "outputs": [
    {
     "name": "stdout",
     "output_type": "stream",
     "text": [
      "Number of Male participated in the test =  482\n",
      "Number of Female participated in the test =  518\n"
     ]
    }
   ],
   "source": [
    "print(\"Number of Male participated in the test = \",data['gender'].value_counts()['male'])\n",
    "print(\"Number of Female participated in the test = \",data['gender'].value_counts()['female'])"
   ]
  },
  {
   "cell_type": "markdown",
   "id": "3fbfa0f5",
   "metadata": {},
   "source": [
    "Prints the number of males and females who participated in the test based on the 'gender' column in the data dataframe. value_counts() counts the occurrences of each unique value in the 'gender' column."
   ]
  },
  {
   "cell_type": "markdown",
   "id": "393b4da2",
   "metadata": {},
   "source": [
    "# 2. What do you think about the students' parental level of education?"
   ]
  },
  {
   "cell_type": "code",
   "execution_count": 62,
   "id": "eade4f53",
   "metadata": {},
   "outputs": [
    {
     "data": {
      "text/plain": [
       "gender                         2\n",
       "race/ethnicity                 5\n",
       "parental level of education    6\n",
       "lunch                          2\n",
       "test preparation course        2\n",
       "pass_math                      2\n",
       "dtype: int64"
      ]
     },
     "execution_count": 62,
     "metadata": {},
     "output_type": "execute_result"
    }
   ],
   "source": [
    "# there are 6 categories for parental level of education\n",
    "\n",
    "data.select_dtypes('object').nunique()"
   ]
  },
  {
   "cell_type": "code",
   "execution_count": 63,
   "id": "844ade41",
   "metadata": {},
   "outputs": [
    {
     "name": "stdout",
     "output_type": "stream",
     "text": [
      "Categories in parent level education: \n",
      "[\"bachelor's degree\" 'some college' \"associate's degree\" 'high school'\n",
      " 'some high school' \"master's degree\"]\n"
     ]
    }
   ],
   "source": [
    "# the 6 different categories are:\n",
    "\n",
    "print(\"Categories in parent level education: \")\n",
    "print(data['parental level of education'].unique())"
   ]
  },
  {
   "cell_type": "code",
   "execution_count": 64,
   "id": "f8396041",
   "metadata": {},
   "outputs": [
    {
     "data": {
      "text/plain": [
       "some college          226\n",
       "associate's degree    222\n",
       "high school           196\n",
       "some high school      179\n",
       "bachelor's degree     118\n",
       "master's degree        59\n",
       "Name: parental level of education, dtype: int64"
      ]
     },
     "execution_count": 64,
     "metadata": {},
     "output_type": "execute_result"
    }
   ],
   "source": [
    "# count of students for 6 different categories:\n",
    "\n",
    "data['parental level of education'].value_counts()"
   ]
  },
  {
   "cell_type": "code",
   "execution_count": 51,
   "id": "da69df34",
   "metadata": {},
   "outputs": [
    {
     "data": {
      "image/png": "[encoded data removed]",
      "text/plain": [
       "<Figure size 1000x600 with 1 Axes>"
      ]
     },
     "metadata": {},
     "output_type": "display_data"
    }
   ],
   "source": [
    "parent_education_counts = data['parental level of education'].value_counts()\n",
    "plt.figure(figsize=(10, 6))\n",
    "parent_education_counts.plot.bar(color='lightblue')\n",
    "plt.title(\"Parental Level of Education\", size=20, color='navy')\n",
    "plt.xlabel(\"Education Level\")\n",
    "plt.ylabel(\"Count\")\n",
    "plt.xticks(rotation=45)\n",
    "plt.grid(color='gray', axis='y')\n",
    "plt.show()"
   ]
  },
  {
   "cell_type": "markdown",
   "id": "293d1bb7",
   "metadata": {},
   "source": [
    "Among 1000 students, 226 student's parents have 'some college', 222 have 'associate's degree',196 have 'high school' background, 179 have 'some high school' background, 118 have 'bachelor's degree',59 have 'master's degree' background.\n",
    "Means, most of the students parents are with 'some college' and parents with 'masters degree' is the least.  \n",
    "From this plot we can identify student's families educational background and also is there relation between parent education and students performance."
   ]
  },
  {
   "cell_type": "code",
   "execution_count": 54,
   "id": "20c927a2",
   "metadata": {},
   "outputs": [],
   "source": [
    "# group the data based on the 'parental level of education' \n",
    "grouped_data = data.groupby('parental level of education')"
   ]
  },
  {
   "cell_type": "code",
   "execution_count": 65,
   "id": "c30989ca",
   "metadata": {
    "scrolled": false
   },
   "outputs": [
    {
     "name": "stdout",
     "output_type": "stream",
     "text": [
      "   \n",
      "Descriptive Data of math score\n"
     ]
    },
    {
     "data": {
      "text/html": [
       "<div>\n",
       "<style scoped>\n",
       "    .dataframe tbody tr th:only-of-type {\n",
       "        vertical-align: middle;\n",
       "    }\n",
       "\n",
       "    .dataframe tbody tr th {\n",
       "        vertical-align: top;\n",
       "    }\n",
       "\n",
       "    .dataframe thead th {\n",
       "        text-align: right;\n",
       "    }\n",
       "</style>\n",
       "<table border=\"1\" class=\"dataframe\">\n",
       "  <thead>\n",
       "    <tr style=\"text-align: right;\">\n",
       "      <th></th>\n",
       "      <th>count</th>\n",
       "      <th>mean</th>\n",
       "      <th>std</th>\n",
       "      <th>min</th>\n",
       "      <th>25%</th>\n",
       "      <th>50%</th>\n",
       "      <th>75%</th>\n",
       "      <th>max</th>\n",
       "    </tr>\n",
       "    <tr>\n",
       "      <th>parental level of education</th>\n",
       "      <th></th>\n",
       "      <th></th>\n",
       "      <th></th>\n",
       "      <th></th>\n",
       "      <th></th>\n",
       "      <th></th>\n",
       "      <th></th>\n",
       "      <th></th>\n",
       "    </tr>\n",
       "  </thead>\n",
       "  <tbody>\n",
       "    <tr>\n",
       "      <th>associate's degree</th>\n",
       "      <td>222.0</td>\n",
       "      <td>67.977477</td>\n",
       "      <td>15.108190</td>\n",
       "      <td>26.0</td>\n",
       "      <td>57.00</td>\n",
       "      <td>67.0</td>\n",
       "      <td>80.0</td>\n",
       "      <td>100.0</td>\n",
       "    </tr>\n",
       "    <tr>\n",
       "      <th>bachelor's degree</th>\n",
       "      <td>118.0</td>\n",
       "      <td>69.288136</td>\n",
       "      <td>15.164117</td>\n",
       "      <td>29.0</td>\n",
       "      <td>61.00</td>\n",
       "      <td>68.0</td>\n",
       "      <td>79.0</td>\n",
       "      <td>100.0</td>\n",
       "    </tr>\n",
       "    <tr>\n",
       "      <th>high school</th>\n",
       "      <td>196.0</td>\n",
       "      <td>61.821429</td>\n",
       "      <td>15.160466</td>\n",
       "      <td>8.0</td>\n",
       "      <td>53.75</td>\n",
       "      <td>63.0</td>\n",
       "      <td>72.0</td>\n",
       "      <td>99.0</td>\n",
       "    </tr>\n",
       "    <tr>\n",
       "      <th>master's degree</th>\n",
       "      <td>59.0</td>\n",
       "      <td>70.254237</td>\n",
       "      <td>14.843544</td>\n",
       "      <td>40.0</td>\n",
       "      <td>57.00</td>\n",
       "      <td>73.0</td>\n",
       "      <td>81.0</td>\n",
       "      <td>95.0</td>\n",
       "    </tr>\n",
       "    <tr>\n",
       "      <th>some college</th>\n",
       "      <td>226.0</td>\n",
       "      <td>67.128319</td>\n",
       "      <td>14.871790</td>\n",
       "      <td>11.0</td>\n",
       "      <td>59.00</td>\n",
       "      <td>68.0</td>\n",
       "      <td>76.0</td>\n",
       "      <td>100.0</td>\n",
       "    </tr>\n",
       "    <tr>\n",
       "      <th>some high school</th>\n",
       "      <td>179.0</td>\n",
       "      <td>63.134078</td>\n",
       "      <td>16.602894</td>\n",
       "      <td>0.0</td>\n",
       "      <td>53.00</td>\n",
       "      <td>65.0</td>\n",
       "      <td>74.0</td>\n",
       "      <td>97.0</td>\n",
       "    </tr>\n",
       "  </tbody>\n",
       "</table>\n",
       "</div>"
      ],
      "text/plain": [
       "                             count       mean        std   min    25%   50%  \\\n",
       "parental level of education                                                   \n",
       "associate's degree           222.0  67.977477  15.108190  26.0  57.00  67.0   \n",
       "bachelor's degree            118.0  69.288136  15.164117  29.0  61.00  68.0   \n",
       "high school                  196.0  61.821429  15.160466   8.0  53.75  63.0   \n",
       "master's degree               59.0  70.254237  14.843544  40.0  57.00  73.0   \n",
       "some college                 226.0  67.128319  14.871790  11.0  59.00  68.0   \n",
       "some high school             179.0  63.134078  16.602894   0.0  53.00  65.0   \n",
       "\n",
       "                              75%    max  \n",
       "parental level of education               \n",
       "associate's degree           80.0  100.0  \n",
       "bachelor's degree            79.0  100.0  \n",
       "high school                  72.0   99.0  \n",
       "master's degree              81.0   95.0  \n",
       "some college                 76.0  100.0  \n",
       "some high school             74.0   97.0  "
      ]
     },
     "execution_count": 65,
     "metadata": {},
     "output_type": "execute_result"
    }
   ],
   "source": [
    "# Calculate descriptive statistics: \n",
    "\n",
    "print(\"   \")\n",
    "print(\"Descriptive Data of math score\")\n",
    "grouped_data['math score'].describe()"
   ]
  },
  {
   "cell_type": "code",
   "execution_count": 66,
   "id": "0162e516",
   "metadata": {
    "scrolled": true
   },
   "outputs": [
    {
     "name": "stdout",
     "output_type": "stream",
     "text": [
      "   \n",
      "Descriptive Data of reading score\n"
     ]
    },
    {
     "data": {
      "text/html": [
       "<div>\n",
       "<style scoped>\n",
       "    .dataframe tbody tr th:only-of-type {\n",
       "        vertical-align: middle;\n",
       "    }\n",
       "\n",
       "    .dataframe tbody tr th {\n",
       "        vertical-align: top;\n",
       "    }\n",
       "\n",
       "    .dataframe thead th {\n",
       "        text-align: right;\n",
       "    }\n",
       "</style>\n",
       "<table border=\"1\" class=\"dataframe\">\n",
       "  <thead>\n",
       "    <tr style=\"text-align: right;\">\n",
       "      <th></th>\n",
       "      <th>count</th>\n",
       "      <th>mean</th>\n",
       "      <th>std</th>\n",
       "      <th>min</th>\n",
       "      <th>25%</th>\n",
       "      <th>50%</th>\n",
       "      <th>75%</th>\n",
       "      <th>max</th>\n",
       "    </tr>\n",
       "    <tr>\n",
       "      <th>parental level of education</th>\n",
       "      <th></th>\n",
       "      <th></th>\n",
       "      <th></th>\n",
       "      <th></th>\n",
       "      <th></th>\n",
       "      <th></th>\n",
       "      <th></th>\n",
       "      <th></th>\n",
       "    </tr>\n",
       "  </thead>\n",
       "  <tbody>\n",
       "    <tr>\n",
       "      <th>associate's degree</th>\n",
       "      <td>222.0</td>\n",
       "      <td>71.018018</td>\n",
       "      <td>13.842999</td>\n",
       "      <td>31.0</td>\n",
       "      <td>61.0</td>\n",
       "      <td>73.0</td>\n",
       "      <td>81.00</td>\n",
       "      <td>100.0</td>\n",
       "    </tr>\n",
       "    <tr>\n",
       "      <th>bachelor's degree</th>\n",
       "      <td>118.0</td>\n",
       "      <td>73.000000</td>\n",
       "      <td>14.285250</td>\n",
       "      <td>41.0</td>\n",
       "      <td>63.0</td>\n",
       "      <td>73.0</td>\n",
       "      <td>82.75</td>\n",
       "      <td>100.0</td>\n",
       "    </tr>\n",
       "    <tr>\n",
       "      <th>high school</th>\n",
       "      <td>196.0</td>\n",
       "      <td>64.602041</td>\n",
       "      <td>14.245280</td>\n",
       "      <td>24.0</td>\n",
       "      <td>54.0</td>\n",
       "      <td>66.0</td>\n",
       "      <td>74.25</td>\n",
       "      <td>99.0</td>\n",
       "    </tr>\n",
       "    <tr>\n",
       "      <th>master's degree</th>\n",
       "      <td>59.0</td>\n",
       "      <td>75.949153</td>\n",
       "      <td>13.046896</td>\n",
       "      <td>53.0</td>\n",
       "      <td>66.5</td>\n",
       "      <td>76.0</td>\n",
       "      <td>84.50</td>\n",
       "      <td>100.0</td>\n",
       "    </tr>\n",
       "    <tr>\n",
       "      <th>some college</th>\n",
       "      <td>226.0</td>\n",
       "      <td>69.566372</td>\n",
       "      <td>14.312932</td>\n",
       "      <td>23.0</td>\n",
       "      <td>60.0</td>\n",
       "      <td>71.0</td>\n",
       "      <td>80.00</td>\n",
       "      <td>100.0</td>\n",
       "    </tr>\n",
       "    <tr>\n",
       "      <th>some high school</th>\n",
       "      <td>179.0</td>\n",
       "      <td>66.759777</td>\n",
       "      <td>15.710633</td>\n",
       "      <td>17.0</td>\n",
       "      <td>56.5</td>\n",
       "      <td>67.0</td>\n",
       "      <td>79.00</td>\n",
       "      <td>100.0</td>\n",
       "    </tr>\n",
       "  </tbody>\n",
       "</table>\n",
       "</div>"
      ],
      "text/plain": [
       "                             count       mean        std   min   25%   50%  \\\n",
       "parental level of education                                                  \n",
       "associate's degree           222.0  71.018018  13.842999  31.0  61.0  73.0   \n",
       "bachelor's degree            118.0  73.000000  14.285250  41.0  63.0  73.0   \n",
       "high school                  196.0  64.602041  14.245280  24.0  54.0  66.0   \n",
       "master's degree               59.0  75.949153  13.046896  53.0  66.5  76.0   \n",
       "some college                 226.0  69.566372  14.312932  23.0  60.0  71.0   \n",
       "some high school             179.0  66.759777  15.710633  17.0  56.5  67.0   \n",
       "\n",
       "                               75%    max  \n",
       "parental level of education                \n",
       "associate's degree           81.00  100.0  \n",
       "bachelor's degree            82.75  100.0  \n",
       "high school                  74.25   99.0  \n",
       "master's degree              84.50  100.0  \n",
       "some college                 80.00  100.0  \n",
       "some high school             79.00  100.0  "
      ]
     },
     "execution_count": 66,
     "metadata": {},
     "output_type": "execute_result"
    }
   ],
   "source": [
    "print(\"   \")\n",
    "print(\"Descriptive Data of reading score\")\n",
    "grouped_data['reading score'].describe()"
   ]
  },
  {
   "cell_type": "code",
   "execution_count": 60,
   "id": "89199c93",
   "metadata": {},
   "outputs": [
    {
     "name": "stdout",
     "output_type": "stream",
     "text": [
      "   \n",
      "Descriptive Data of writing score\n"
     ]
    },
    {
     "data": {
      "text/html": [
       "<div>\n",
       "<style scoped>\n",
       "    .dataframe tbody tr th:only-of-type {\n",
       "        vertical-align: middle;\n",
       "    }\n",
       "\n",
       "    .dataframe tbody tr th {\n",
       "        vertical-align: top;\n",
       "    }\n",
       "\n",
       "    .dataframe thead th {\n",
       "        text-align: right;\n",
       "    }\n",
       "</style>\n",
       "<table border=\"1\" class=\"dataframe\">\n",
       "  <thead>\n",
       "    <tr style=\"text-align: right;\">\n",
       "      <th></th>\n",
       "      <th>count</th>\n",
       "      <th>mean</th>\n",
       "      <th>std</th>\n",
       "      <th>min</th>\n",
       "      <th>25%</th>\n",
       "      <th>50%</th>\n",
       "      <th>75%</th>\n",
       "      <th>max</th>\n",
       "    </tr>\n",
       "    <tr>\n",
       "      <th>parental level of education</th>\n",
       "      <th></th>\n",
       "      <th></th>\n",
       "      <th></th>\n",
       "      <th></th>\n",
       "      <th></th>\n",
       "      <th></th>\n",
       "      <th></th>\n",
       "      <th></th>\n",
       "    </tr>\n",
       "  </thead>\n",
       "  <tbody>\n",
       "    <tr>\n",
       "      <th>associate's degree</th>\n",
       "      <td>222.0</td>\n",
       "      <td>70.031532</td>\n",
       "      <td>14.260787</td>\n",
       "      <td>35.0</td>\n",
       "      <td>58.25</td>\n",
       "      <td>71.5</td>\n",
       "      <td>80.0</td>\n",
       "      <td>100.0</td>\n",
       "    </tr>\n",
       "    <tr>\n",
       "      <th>bachelor's degree</th>\n",
       "      <td>118.0</td>\n",
       "      <td>73.381356</td>\n",
       "      <td>14.728262</td>\n",
       "      <td>38.0</td>\n",
       "      <td>62.50</td>\n",
       "      <td>74.0</td>\n",
       "      <td>83.0</td>\n",
       "      <td>100.0</td>\n",
       "    </tr>\n",
       "    <tr>\n",
       "      <th>high school</th>\n",
       "      <td>196.0</td>\n",
       "      <td>62.403061</td>\n",
       "      <td>14.165172</td>\n",
       "      <td>15.0</td>\n",
       "      <td>52.00</td>\n",
       "      <td>64.0</td>\n",
       "      <td>73.0</td>\n",
       "      <td>100.0</td>\n",
       "    </tr>\n",
       "    <tr>\n",
       "      <th>master's degree</th>\n",
       "      <td>59.0</td>\n",
       "      <td>75.677966</td>\n",
       "      <td>13.730711</td>\n",
       "      <td>46.0</td>\n",
       "      <td>67.00</td>\n",
       "      <td>75.0</td>\n",
       "      <td>85.0</td>\n",
       "      <td>100.0</td>\n",
       "    </tr>\n",
       "    <tr>\n",
       "      <th>some college</th>\n",
       "      <td>226.0</td>\n",
       "      <td>69.035398</td>\n",
       "      <td>15.089911</td>\n",
       "      <td>19.0</td>\n",
       "      <td>60.00</td>\n",
       "      <td>70.0</td>\n",
       "      <td>79.0</td>\n",
       "      <td>99.0</td>\n",
       "    </tr>\n",
       "    <tr>\n",
       "      <th>some high school</th>\n",
       "      <td>179.0</td>\n",
       "      <td>64.888268</td>\n",
       "      <td>15.736197</td>\n",
       "      <td>10.0</td>\n",
       "      <td>54.00</td>\n",
       "      <td>66.0</td>\n",
       "      <td>77.0</td>\n",
       "      <td>100.0</td>\n",
       "    </tr>\n",
       "  </tbody>\n",
       "</table>\n",
       "</div>"
      ],
      "text/plain": [
       "                             count       mean        std   min    25%   50%  \\\n",
       "parental level of education                                                   \n",
       "associate's degree           222.0  70.031532  14.260787  35.0  58.25  71.5   \n",
       "bachelor's degree            118.0  73.381356  14.728262  38.0  62.50  74.0   \n",
       "high school                  196.0  62.403061  14.165172  15.0  52.00  64.0   \n",
       "master's degree               59.0  75.677966  13.730711  46.0  67.00  75.0   \n",
       "some college                 226.0  69.035398  15.089911  19.0  60.00  70.0   \n",
       "some high school             179.0  64.888268  15.736197  10.0  54.00  66.0   \n",
       "\n",
       "                              75%    max  \n",
       "parental level of education               \n",
       "associate's degree           80.0  100.0  \n",
       "bachelor's degree            83.0  100.0  \n",
       "high school                  73.0  100.0  \n",
       "master's degree              85.0  100.0  \n",
       "some college                 79.0   99.0  \n",
       "some high school             77.0  100.0  "
      ]
     },
     "execution_count": 60,
     "metadata": {},
     "output_type": "execute_result"
    }
   ],
   "source": [
    "print(\"   \")\n",
    "print(\"Descriptive Data of writing score\")\n",
    "grouped_data['writing score'].describe()"
   ]
  },
  {
   "cell_type": "markdown",
   "id": "15181262",
   "metadata": {},
   "source": [
    "Insights:\n",
    "\n",
    "Count: This indicates the number of students in each parental level of education.\n",
    "\n",
    "Mean: It represents the average score for math, reading and writing corresponding to each parental education level.\n",
    "Higher mean score is scored by master's degree which means, their students achieve better performance.\n",
    "\n",
    "Standard Deviation: This shows the dispersion of math, reading and writing scores within each parental education level group.\n",
    "A low std dev indicates, marks scored for math, reading and writing are close to mean.\n",
    "which indicates, masters degree are having less std dev, i.e, marks are tightly clustered around the mean.\n",
    "\n",
    "Minimum and Maximum: These values give the range of scores observed in each parental education level category.\n",
    "here, masters degree have good range of score having greater minimum score compared to others.\n",
    "\n",
    "Quartiles (25%, 50%, 75%): These values help understand the distribution of scores within each education level group.\n",
    "masters degree having good score for 25%, 50%, and 75%."
   ]
  },
  {
   "cell_type": "markdown",
   "id": "dee0203c",
   "metadata": {},
   "source": [
    "# 3. Who scores the most on average for math, reading and writing based on\n",
    "### ● Gender\n",
    "### ● Test preparation course"
   ]
  },
  {
   "cell_type": "code",
   "execution_count": 45,
   "id": "568657b7",
   "metadata": {
    "scrolled": true
   },
   "outputs": [
    {
     "data": {
      "image/png": "[encoded data removed]",
      "text/plain": [
       "<Figure size 1500x500 with 3 Axes>"
      ]
     },
     "metadata": {},
     "output_type": "display_data"
    }
   ],
   "source": [
    "plt.figure(figsize=(15,5))\n",
    "plt.subplots_adjust(left=0.125, bottom=0.1, right=0.9, top=0.9,\n",
    "                      wspace=0.5, hspace=0.2)\n",
    "plt.subplot(131)\n",
    "plt.title('Math Scores')\n",
    "sns.barplot(x=\"gender\", y=\"math score\", data=data)\n",
    "plt.subplot(132)\n",
    "plt.title('Reading Scores')\n",
    "sns.barplot(x=\"gender\", y=\"reading score\", data=data)\n",
    "plt.subplot(133)\n",
    "plt.title('Writing Scores')\n",
    "sns.barplot(x=\"gender\", y=\"writing score\", data=data)\n",
    "plt.show()"
   ]
  },
  {
   "cell_type": "markdown",
   "id": "96e7d77b",
   "metadata": {},
   "source": [
    "Females tend to score higher in reading and writing, while males tend to score higher in math. By using groupby and mean function we can find out exact mean for both female and male."
   ]
  },
  {
   "cell_type": "code",
   "execution_count": 74,
   "id": "3fbec84a",
   "metadata": {},
   "outputs": [
    {
     "data": {
      "text/html": [
       "<div>\n",
       "<style scoped>\n",
       "    .dataframe tbody tr th:only-of-type {\n",
       "        vertical-align: middle;\n",
       "    }\n",
       "\n",
       "    .dataframe tbody tr th {\n",
       "        vertical-align: top;\n",
       "    }\n",
       "\n",
       "    .dataframe thead th {\n",
       "        text-align: right;\n",
       "    }\n",
       "</style>\n",
       "<table border=\"1\" class=\"dataframe\">\n",
       "  <thead>\n",
       "    <tr style=\"text-align: right;\">\n",
       "      <th></th>\n",
       "      <th>math score</th>\n",
       "      <th>reading score</th>\n",
       "      <th>writing score</th>\n",
       "    </tr>\n",
       "    <tr>\n",
       "      <th>gender</th>\n",
       "      <th></th>\n",
       "      <th></th>\n",
       "      <th></th>\n",
       "    </tr>\n",
       "  </thead>\n",
       "  <tbody>\n",
       "    <tr>\n",
       "      <th>female</th>\n",
       "      <td>63.376448</td>\n",
       "      <td>72.590734</td>\n",
       "      <td>72.467181</td>\n",
       "    </tr>\n",
       "    <tr>\n",
       "      <th>male</th>\n",
       "      <td>68.821577</td>\n",
       "      <td>65.545643</td>\n",
       "      <td>63.446058</td>\n",
       "    </tr>\n",
       "  </tbody>\n",
       "</table>\n",
       "</div>"
      ],
      "text/plain": [
       "        math score  reading score  writing score\n",
       "gender                                          \n",
       "female   63.376448      72.590734      72.467181\n",
       "male     68.821577      65.545643      63.446058"
      ]
     },
     "execution_count": 74,
     "metadata": {},
     "output_type": "execute_result"
    }
   ],
   "source": [
    "data.groupby('gender')[['math score', 'reading score', 'writing score']].mean()"
   ]
  },
  {
   "cell_type": "markdown",
   "id": "4fb4a07b",
   "metadata": {},
   "source": [
    "Females have higher score in reading (72.6) and writing (72.5), while males have higher in math(68.8)."
   ]
  },
  {
   "cell_type": "code",
   "execution_count": 41,
   "id": "f70f1b7d",
   "metadata": {
    "scrolled": true
   },
   "outputs": [
    {
     "data": {
      "text/plain": [
       "none         642\n",
       "completed    358\n",
       "Name: test preparation course, dtype: int64"
      ]
     },
     "execution_count": 41,
     "metadata": {},
     "output_type": "execute_result"
    }
   ],
   "source": [
    "# no of students who have completed the test prep course and those who not completed.\n",
    "\n",
    "data['test preparation course'].value_counts()"
   ]
  },
  {
   "cell_type": "markdown",
   "id": "13907f87",
   "metadata": {},
   "source": [
    "less no of students have completed the test preparation course."
   ]
  },
  {
   "cell_type": "code",
   "execution_count": 47,
   "id": "eafe1d27",
   "metadata": {
    "scrolled": true
   },
   "outputs": [
    {
     "data": {
      "image/png": "[encoded data removed]",
      "text/plain": [
       "<Figure size 1500x500 with 3 Axes>"
      ]
     },
     "metadata": {},
     "output_type": "display_data"
    }
   ],
   "source": [
    "# genderwise plot of those who completed the test prep course and those who not.\n",
    "\n",
    "plt.figure(figsize=(15,5))\n",
    "plt.subplots_adjust(left=0.125, bottom=0.1, right=0.9, top=0.9, wspace=0.5, hspace=0.2)\n",
    "plt.subplot(131)\n",
    "plt.title('Math Scores')\n",
    "sns.barplot(hue=\"gender\", y=\"math score\", x=\"test preparation course\", data=data)\n",
    "plt.subplot(132)\n",
    "plt.title('Reading Scores')\n",
    "sns.barplot(hue=\"gender\", y=\"reading score\", x=\"test preparation course\", data=data)\n",
    "plt.subplot(133)\n",
    "plt.title('Writing Scores')\n",
    "sns.barplot(hue=\"gender\", y=\"writing score\", x=\"test preparation course\", data=data)\n",
    "plt.show()"
   ]
  },
  {
   "cell_type": "code",
   "execution_count": 75,
   "id": "bec96d61",
   "metadata": {},
   "outputs": [
    {
     "data": {
      "text/html": [
       "<div>\n",
       "<style scoped>\n",
       "    .dataframe tbody tr th:only-of-type {\n",
       "        vertical-align: middle;\n",
       "    }\n",
       "\n",
       "    .dataframe tbody tr th {\n",
       "        vertical-align: top;\n",
       "    }\n",
       "\n",
       "    .dataframe thead th {\n",
       "        text-align: right;\n",
       "    }\n",
       "</style>\n",
       "<table border=\"1\" class=\"dataframe\">\n",
       "  <thead>\n",
       "    <tr style=\"text-align: right;\">\n",
       "      <th></th>\n",
       "      <th>math score</th>\n",
       "      <th>reading score</th>\n",
       "      <th>writing score</th>\n",
       "    </tr>\n",
       "    <tr>\n",
       "      <th>test preparation course</th>\n",
       "      <th></th>\n",
       "      <th></th>\n",
       "      <th></th>\n",
       "    </tr>\n",
       "  </thead>\n",
       "  <tbody>\n",
       "    <tr>\n",
       "      <th>completed</th>\n",
       "      <td>69.96648</td>\n",
       "      <td>74.175978</td>\n",
       "      <td>74.684358</td>\n",
       "    </tr>\n",
       "    <tr>\n",
       "      <th>none</th>\n",
       "      <td>63.78972</td>\n",
       "      <td>66.417445</td>\n",
       "      <td>64.457944</td>\n",
       "    </tr>\n",
       "  </tbody>\n",
       "</table>\n",
       "</div>"
      ],
      "text/plain": [
       "                         math score  reading score  writing score\n",
       "test preparation course                                          \n",
       "completed                  69.96648      74.175978      74.684358\n",
       "none                       63.78972      66.417445      64.457944"
      ]
     },
     "execution_count": 75,
     "metadata": {},
     "output_type": "execute_result"
    }
   ],
   "source": [
    "data.groupby('test preparation course')[['math score', 'reading score', 'writing score']].mean()"
   ]
  },
  {
   "cell_type": "markdown",
   "id": "6fc3a8f3",
   "metadata": {},
   "source": [
    "From these insights, it appears that completing the test preparation course is associated with higher average scores in math, reading, and writing. This suggests that the test preparation course may have a positive impact on students' academic performance."
   ]
  },
  {
   "cell_type": "markdown",
   "id": "86afef32",
   "metadata": {},
   "source": [
    "# 4. What do you think about the scoring variation for math, reading and writing based on\n",
    "### ● Gender\n",
    "### ● Test preparation course"
   ]
  },
  {
   "cell_type": "markdown",
   "id": "b1a4f629",
   "metadata": {},
   "source": [
    "The average math score for males is 68.82, while for females it is 63.38.\n",
    "This indicates that, on average, males tend to score higher in math compared to females."
   ]
  },
  {
   "cell_type": "markdown",
   "id": "4ce41ddc",
   "metadata": {},
   "source": [
    "The average reading and writing score for males is 65.55 and 63.45respectively, while for females it is 72.59 and 72.47.\n",
    "This indicates that, on average, males tend to score lesser in reading and writing compared to females."
   ]
  },
  {
   "cell_type": "code",
   "execution_count": 76,
   "id": "033b6dda",
   "metadata": {},
   "outputs": [
    {
     "data": {
      "text/html": [
       "<div>\n",
       "<style scoped>\n",
       "    .dataframe tbody tr th:only-of-type {\n",
       "        vertical-align: middle;\n",
       "    }\n",
       "\n",
       "    .dataframe tbody tr th {\n",
       "        vertical-align: top;\n",
       "    }\n",
       "\n",
       "    .dataframe thead th {\n",
       "        text-align: right;\n",
       "    }\n",
       "</style>\n",
       "<table border=\"1\" class=\"dataframe\">\n",
       "  <thead>\n",
       "    <tr style=\"text-align: right;\">\n",
       "      <th></th>\n",
       "      <th>math score</th>\n",
       "      <th>reading score</th>\n",
       "      <th>writing score</th>\n",
       "    </tr>\n",
       "    <tr>\n",
       "      <th>gender</th>\n",
       "      <th></th>\n",
       "      <th></th>\n",
       "      <th></th>\n",
       "    </tr>\n",
       "  </thead>\n",
       "  <tbody>\n",
       "    <tr>\n",
       "      <th>female</th>\n",
       "      <td>16.029928</td>\n",
       "      <td>14.411018</td>\n",
       "      <td>14.844842</td>\n",
       "    </tr>\n",
       "    <tr>\n",
       "      <th>male</th>\n",
       "      <td>14.556411</td>\n",
       "      <td>14.149594</td>\n",
       "      <td>14.227225</td>\n",
       "    </tr>\n",
       "  </tbody>\n",
       "</table>\n",
       "</div>"
      ],
      "text/plain": [
       "        math score  reading score  writing score\n",
       "gender                                          \n",
       "female   16.029928      14.411018      14.844842\n",
       "male     14.556411      14.149594      14.227225"
      ]
     },
     "execution_count": 76,
     "metadata": {},
     "output_type": "execute_result"
    }
   ],
   "source": [
    "data.groupby('gender')[['math score', 'reading score', 'writing score']].std()"
   ]
  },
  {
   "cell_type": "markdown",
   "id": "594bb029",
   "metadata": {},
   "source": [
    "Higher standard deviation for female math scores suggests a greater variation in scores compared to male math scores."
   ]
  },
  {
   "cell_type": "markdown",
   "id": "10a427b1",
   "metadata": {},
   "source": [
    "Similar standard deviations for both genders in reading and writing score."
   ]
  },
  {
   "cell_type": "code",
   "execution_count": 79,
   "id": "2b24b244",
   "metadata": {},
   "outputs": [
    {
     "data": {
      "image/png": "[encoded data removed]",
      "text/plain": [
       "<Figure size 640x480 with 1 Axes>"
      ]
     },
     "metadata": {},
     "output_type": "display_data"
    }
   ],
   "source": [
    "plt.hist(data[data['gender'] == 'female']['math score'], bins=10, alpha=0.5, label='Female')\n",
    "plt.hist(data[data['gender'] == 'male']['math score'], bins=10, alpha=0.5, label='Male')\n",
    "plt.xlabel('Math Score')\n",
    "plt.ylabel('Frequency')\n",
    "plt.grid(color='gray', axis='x')\n",
    "plt.legend()\n",
    "plt.show()"
   ]
  },
  {
   "cell_type": "markdown",
   "id": "7873d194",
   "metadata": {},
   "source": [
    "for female, the highest frequency is in range between 60 to 70 and left skewed.\n",
    "whereas in male, the highest frequency is in range between 65 to 75 and moderately skewed."
   ]
  },
  {
   "cell_type": "code",
   "execution_count": 80,
   "id": "92e3de57",
   "metadata": {},
   "outputs": [
    {
     "data": {
      "image/png": "[encoded data removed]",
      "text/plain": [
       "<Figure size 640x480 with 1 Axes>"
      ]
     },
     "metadata": {},
     "output_type": "display_data"
    }
   ],
   "source": [
    "plt.hist(data[data['gender'] == 'female']['reading score'], bins=10, alpha=0.5, label='Female')\n",
    "plt.hist(data[data['gender'] == 'male']['reading score'], bins=10, alpha=0.5, label='Male')\n",
    "plt.xlabel('Reading Score')\n",
    "plt.ylabel('Frequency')\n",
    "plt.grid(color='gray', axis='x')\n",
    "plt.legend()\n",
    "plt.show()"
   ]
  },
  {
   "cell_type": "markdown",
   "id": "28a5a92e",
   "metadata": {},
   "source": [
    "for female, the highest frequency is in range between 70 to 80 and relatively symmetrical.\n",
    "whereas in male, the highest frequency is in range between 60 to 70 and left skewed."
   ]
  },
  {
   "cell_type": "code",
   "execution_count": 81,
   "id": "86450d4c",
   "metadata": {},
   "outputs": [
    {
     "data": {
      "image/png": "[encoded data removed]",
      "text/plain": [
       "<Figure size 640x480 with 1 Axes>"
      ]
     },
     "metadata": {},
     "output_type": "display_data"
    }
   ],
   "source": [
    "plt.hist(data[data['gender'] == 'female']['writing score'], bins=10, alpha=0.5, label='Female')\n",
    "plt.hist(data[data['gender'] == 'male']['writing score'], bins=10, alpha=0.5, label='Male')\n",
    "plt.xlabel('Writing Score')\n",
    "plt.ylabel('Frequency')\n",
    "plt.grid(color='gray', axis='x')\n",
    "plt.legend()\n",
    "plt.show()"
   ]
  },
  {
   "cell_type": "markdown",
   "id": "c7c43554",
   "metadata": {},
   "source": [
    "for female, the highest frequency is in range between 70 to 80 and relatively symmetrical. whereas in male, the highest frequency is in range between 60 to 70 and left skewed."
   ]
  },
  {
   "cell_type": "markdown",
   "id": "bcfea654",
   "metadata": {},
   "source": [
    "Male students scored higher in Maths where as female students scored higher in Reading and writing.\n",
    "Both Students male and female who completed the test preparation course scored higher in all three subjects."
   ]
  },
  {
   "cell_type": "code",
   "execution_count": 84,
   "id": "9bfd07a4",
   "metadata": {},
   "outputs": [
    {
     "data": {
      "image/png": "[encoded data removed]",
      "text/plain": [
       "<Figure size 640x480 with 1 Axes>"
      ]
     },
     "metadata": {},
     "output_type": "display_data"
    }
   ],
   "source": [
    "# Group the data \n",
    "grouped_data = data.groupby('test preparation course')\n",
    "\n",
    "# Calculate the mean scores for math, reading, and writing\n",
    "mean_scores = grouped_data[['math score', 'reading score', 'writing score']].mean()\n",
    "\n",
    "# Calculate the standard deviations for math, reading, and writing\n",
    "std_scores = grouped_data[['math score', 'reading score', 'writing score']].std()\n",
    "\n",
    "# Plot the mean scores with error bars representing the standard deviations\n",
    "mean_scores.plot(kind='bar', yerr=std_scores, capsize=5)\n",
    "plt.title('Scoring Variation based on Test Preparation Course', size=20, color='brown')\n",
    "plt.xlabel('Test Preparation Course')\n",
    "plt.ylabel('Score')\n",
    "plt.legend(loc='best')\n",
    "plt.grid(axis='y')\n",
    "plt.show()\n"
   ]
  },
  {
   "cell_type": "markdown",
   "id": "ef575771",
   "metadata": {},
   "source": [
    "Height of the bar indicates the average score.\n",
    "Those who completed test preparation course gained maximum score for all three subjects where as who not completed test preparation course gained less score. "
   ]
  },
  {
   "cell_type": "markdown",
   "id": "117e2780",
   "metadata": {},
   "source": [
    "# 5. The management needs your help to give bonus points to the top 25% of students based on their math score, so how will you help the management to achieve this."
   ]
  },
  {
   "cell_type": "code",
   "execution_count": 85,
   "id": "fb6caa46",
   "metadata": {},
   "outputs": [],
   "source": [
    "data_sorted = data.sort_values('math score', ascending=False)"
   ]
  },
  {
   "cell_type": "code",
   "execution_count": 90,
   "id": "49621fae",
   "metadata": {},
   "outputs": [],
   "source": [
    "math_score_25th_percentile = data_sorted['math score'].quantile(0.25)\n",
    "math_score_75th_percentile = data_sorted['math score'].quantile(0.75)\n",
    "math_score_50th_percentile = data_sorted['math score'].quantile(0.50)"
   ]
  },
  {
   "cell_type": "code",
   "execution_count": 88,
   "id": "334a4fd5",
   "metadata": {
    "scrolled": true
   },
   "outputs": [
    {
     "data": {
      "text/plain": [
       "77.0"
      ]
     },
     "execution_count": 88,
     "metadata": {},
     "output_type": "execute_result"
    }
   ],
   "source": [
    "math_score_75th_percentile"
   ]
  },
  {
   "cell_type": "code",
   "execution_count": 94,
   "id": "6a3ca3a1",
   "metadata": {
    "scrolled": true
   },
   "outputs": [
    {
     "data": {
      "text/plain": [
       "66.0"
      ]
     },
     "execution_count": 94,
     "metadata": {},
     "output_type": "execute_result"
    }
   ],
   "source": [
    "math_score_50th_percentile"
   ]
  },
  {
   "cell_type": "code",
   "execution_count": 95,
   "id": "7b339aa4",
   "metadata": {},
   "outputs": [
    {
     "data": {
      "text/plain": [
       "57.0"
      ]
     },
     "execution_count": 95,
     "metadata": {},
     "output_type": "execute_result"
    }
   ],
   "source": [
    "math_score_25th_percentile"
   ]
  },
  {
   "cell_type": "code",
   "execution_count": 92,
   "id": "ffde2832",
   "metadata": {},
   "outputs": [],
   "source": [
    "top_75_percent = data_sorted[data_sorted['math score'] >= math_score_75th_percentile]"
   ]
  },
  {
   "cell_type": "code",
   "execution_count": 96,
   "id": "f67993e6",
   "metadata": {
    "scrolled": true
   },
   "outputs": [
    {
     "data": {
      "text/html": [
       "<div>\n",
       "<style scoped>\n",
       "    .dataframe tbody tr th:only-of-type {\n",
       "        vertical-align: middle;\n",
       "    }\n",
       "\n",
       "    .dataframe tbody tr th {\n",
       "        vertical-align: top;\n",
       "    }\n",
       "\n",
       "    .dataframe thead th {\n",
       "        text-align: right;\n",
       "    }\n",
       "</style>\n",
       "<table border=\"1\" class=\"dataframe\">\n",
       "  <thead>\n",
       "    <tr style=\"text-align: right;\">\n",
       "      <th></th>\n",
       "      <th>gender</th>\n",
       "      <th>race/ethnicity</th>\n",
       "      <th>parental level of education</th>\n",
       "      <th>lunch</th>\n",
       "      <th>test preparation course</th>\n",
       "      <th>math score</th>\n",
       "      <th>reading score</th>\n",
       "      <th>writing score</th>\n",
       "      <th>pass_math</th>\n",
       "      <th>bonus</th>\n",
       "      <th>math_score_75th_percentile</th>\n",
       "    </tr>\n",
       "  </thead>\n",
       "  <tbody>\n",
       "    <tr>\n",
       "      <th>999</th>\n",
       "      <td>male</td>\n",
       "      <td>group E</td>\n",
       "      <td>bachelor's degree</td>\n",
       "      <td>standard</td>\n",
       "      <td>completed</td>\n",
       "      <td>100</td>\n",
       "      <td>100</td>\n",
       "      <td>100</td>\n",
       "      <td>Pass</td>\n",
       "      <td>10</td>\n",
       "      <td>77.0</td>\n",
       "    </tr>\n",
       "    <tr>\n",
       "      <th>515</th>\n",
       "      <td>female</td>\n",
       "      <td>group E</td>\n",
       "      <td>some college</td>\n",
       "      <td>standard</td>\n",
       "      <td>none</td>\n",
       "      <td>100</td>\n",
       "      <td>92</td>\n",
       "      <td>97</td>\n",
       "      <td>Pass</td>\n",
       "      <td>10</td>\n",
       "      <td>77.0</td>\n",
       "    </tr>\n",
       "    <tr>\n",
       "      <th>517</th>\n",
       "      <td>female</td>\n",
       "      <td>group E</td>\n",
       "      <td>associate's degree</td>\n",
       "      <td>standard</td>\n",
       "      <td>none</td>\n",
       "      <td>100</td>\n",
       "      <td>100</td>\n",
       "      <td>100</td>\n",
       "      <td>Pass</td>\n",
       "      <td>10</td>\n",
       "      <td>77.0</td>\n",
       "    </tr>\n",
       "    <tr>\n",
       "      <th>516</th>\n",
       "      <td>female</td>\n",
       "      <td>group E</td>\n",
       "      <td>bachelor's degree</td>\n",
       "      <td>standard</td>\n",
       "      <td>none</td>\n",
       "      <td>100</td>\n",
       "      <td>100</td>\n",
       "      <td>100</td>\n",
       "      <td>Pass</td>\n",
       "      <td>10</td>\n",
       "      <td>77.0</td>\n",
       "    </tr>\n",
       "    <tr>\n",
       "      <th>997</th>\n",
       "      <td>male</td>\n",
       "      <td>group D</td>\n",
       "      <td>some college</td>\n",
       "      <td>standard</td>\n",
       "      <td>completed</td>\n",
       "      <td>100</td>\n",
       "      <td>97</td>\n",
       "      <td>99</td>\n",
       "      <td>Pass</td>\n",
       "      <td>10</td>\n",
       "      <td>77.0</td>\n",
       "    </tr>\n",
       "    <tr>\n",
       "      <th>...</th>\n",
       "      <td>...</td>\n",
       "      <td>...</td>\n",
       "      <td>...</td>\n",
       "      <td>...</td>\n",
       "      <td>...</td>\n",
       "      <td>...</td>\n",
       "      <td>...</td>\n",
       "      <td>...</td>\n",
       "      <td>...</td>\n",
       "      <td>...</td>\n",
       "      <td>...</td>\n",
       "    </tr>\n",
       "    <tr>\n",
       "      <th>427</th>\n",
       "      <td>female</td>\n",
       "      <td>group D</td>\n",
       "      <td>associate's degree</td>\n",
       "      <td>standard</td>\n",
       "      <td>none</td>\n",
       "      <td>77</td>\n",
       "      <td>77</td>\n",
       "      <td>73</td>\n",
       "      <td>Pass</td>\n",
       "      <td>10</td>\n",
       "      <td>77.0</td>\n",
       "    </tr>\n",
       "    <tr>\n",
       "      <th>426</th>\n",
       "      <td>female</td>\n",
       "      <td>group D</td>\n",
       "      <td>some college</td>\n",
       "      <td>standard</td>\n",
       "      <td>none</td>\n",
       "      <td>77</td>\n",
       "      <td>68</td>\n",
       "      <td>77</td>\n",
       "      <td>Pass</td>\n",
       "      <td>10</td>\n",
       "      <td>77.0</td>\n",
       "    </tr>\n",
       "    <tr>\n",
       "      <th>417</th>\n",
       "      <td>female</td>\n",
       "      <td>group B</td>\n",
       "      <td>master's degree</td>\n",
       "      <td>standard</td>\n",
       "      <td>none</td>\n",
       "      <td>77</td>\n",
       "      <td>90</td>\n",
       "      <td>84</td>\n",
       "      <td>Pass</td>\n",
       "      <td>10</td>\n",
       "      <td>77.0</td>\n",
       "    </tr>\n",
       "    <tr>\n",
       "      <th>424</th>\n",
       "      <td>female</td>\n",
       "      <td>group D</td>\n",
       "      <td>associate's degree</td>\n",
       "      <td>free/reduced</td>\n",
       "      <td>completed</td>\n",
       "      <td>77</td>\n",
       "      <td>89</td>\n",
       "      <td>98</td>\n",
       "      <td>Pass</td>\n",
       "      <td>10</td>\n",
       "      <td>77.0</td>\n",
       "    </tr>\n",
       "    <tr>\n",
       "      <th>423</th>\n",
       "      <td>female</td>\n",
       "      <td>group C</td>\n",
       "      <td>some high school</td>\n",
       "      <td>standard</td>\n",
       "      <td>none</td>\n",
       "      <td>77</td>\n",
       "      <td>91</td>\n",
       "      <td>88</td>\n",
       "      <td>Pass</td>\n",
       "      <td>10</td>\n",
       "      <td>77.0</td>\n",
       "    </tr>\n",
       "  </tbody>\n",
       "</table>\n",
       "<p>255 rows × 11 columns</p>\n",
       "</div>"
      ],
      "text/plain": [
       "     gender race/ethnicity parental level of education         lunch  \\\n",
       "999    male        group E           bachelor's degree      standard   \n",
       "515  female        group E                some college      standard   \n",
       "517  female        group E          associate's degree      standard   \n",
       "516  female        group E           bachelor's degree      standard   \n",
       "997    male        group D                some college      standard   \n",
       "..      ...            ...                         ...           ...   \n",
       "427  female        group D          associate's degree      standard   \n",
       "426  female        group D                some college      standard   \n",
       "417  female        group B             master's degree      standard   \n",
       "424  female        group D          associate's degree  free/reduced   \n",
       "423  female        group C            some high school      standard   \n",
       "\n",
       "    test preparation course  math score  reading score  writing score  \\\n",
       "999               completed         100            100            100   \n",
       "515                    none         100             92             97   \n",
       "517                    none         100            100            100   \n",
       "516                    none         100            100            100   \n",
       "997               completed         100             97             99   \n",
       "..                      ...         ...            ...            ...   \n",
       "427                    none          77             77             73   \n",
       "426                    none          77             68             77   \n",
       "417                    none          77             90             84   \n",
       "424               completed          77             89             98   \n",
       "423                    none          77             91             88   \n",
       "\n",
       "    pass_math  bonus  math_score_75th_percentile  \n",
       "999      Pass     10                        77.0  \n",
       "515      Pass     10                        77.0  \n",
       "517      Pass     10                        77.0  \n",
       "516      Pass     10                        77.0  \n",
       "997      Pass     10                        77.0  \n",
       "..        ...    ...                         ...  \n",
       "427      Pass     10                        77.0  \n",
       "426      Pass     10                        77.0  \n",
       "417      Pass     10                        77.0  \n",
       "424      Pass     10                        77.0  \n",
       "423      Pass     10                        77.0  \n",
       "\n",
       "[255 rows x 11 columns]"
      ]
     },
     "execution_count": 96,
     "metadata": {},
     "output_type": "execute_result"
    }
   ],
   "source": [
    "top_75_percent"
   ]
  },
  {
   "cell_type": "code",
   "execution_count": 98,
   "id": "60d3e427",
   "metadata": {},
   "outputs": [
    {
     "data": {
      "text/plain": [
       "57.0"
      ]
     },
     "execution_count": 98,
     "metadata": {},
     "output_type": "execute_result"
    }
   ],
   "source": [
    "math_score_25th_percentile = data['math score'].quantile(0.25)\n",
    "math_score_25th_percentile"
   ]
  },
  {
   "cell_type": "code",
   "execution_count": 29,
   "id": "8402a734",
   "metadata": {},
   "outputs": [
    {
     "data": {
      "text/plain": [
       "77.0"
      ]
     },
     "execution_count": 29,
     "metadata": {},
     "output_type": "execute_result"
    }
   ],
   "source": [
    "math_score_75th_percentile = data['math score'].quantile(0.75)\n",
    "math_score_75th_percentile"
   ]
  },
  {
   "cell_type": "code",
   "execution_count": 99,
   "id": "b3087922",
   "metadata": {},
   "outputs": [],
   "source": [
    "bonus_threshold = math_score_75th_percentile + 0.05 * math_score_75th_percentile"
   ]
  },
  {
   "cell_type": "code",
   "execution_count": 100,
   "id": "04e94c82",
   "metadata": {},
   "outputs": [],
   "source": [
    "data['bonus'] = 0"
   ]
  },
  {
   "cell_type": "code",
   "execution_count": 101,
   "id": "a07dc337",
   "metadata": {},
   "outputs": [],
   "source": [
    "data.loc[data['math score'] >= bonus_threshold, 'bonus'] = 10"
   ]
  },
  {
   "cell_type": "code",
   "execution_count": 102,
   "id": "2d123f66",
   "metadata": {
    "scrolled": false
   },
   "outputs": [
    {
     "data": {
      "text/html": [
       "<div>\n",
       "<style scoped>\n",
       "    .dataframe tbody tr th:only-of-type {\n",
       "        vertical-align: middle;\n",
       "    }\n",
       "\n",
       "    .dataframe tbody tr th {\n",
       "        vertical-align: top;\n",
       "    }\n",
       "\n",
       "    .dataframe thead th {\n",
       "        text-align: right;\n",
       "    }\n",
       "</style>\n",
       "<table border=\"1\" class=\"dataframe\">\n",
       "  <thead>\n",
       "    <tr style=\"text-align: right;\">\n",
       "      <th></th>\n",
       "      <th>gender</th>\n",
       "      <th>race/ethnicity</th>\n",
       "      <th>parental level of education</th>\n",
       "      <th>lunch</th>\n",
       "      <th>test preparation course</th>\n",
       "      <th>math score</th>\n",
       "      <th>reading score</th>\n",
       "      <th>writing score</th>\n",
       "      <th>pass_math</th>\n",
       "      <th>bonus</th>\n",
       "      <th>math_score_75th_percentile</th>\n",
       "    </tr>\n",
       "  </thead>\n",
       "  <tbody>\n",
       "    <tr>\n",
       "      <th>999</th>\n",
       "      <td>male</td>\n",
       "      <td>group E</td>\n",
       "      <td>bachelor's degree</td>\n",
       "      <td>standard</td>\n",
       "      <td>completed</td>\n",
       "      <td>100</td>\n",
       "      <td>100</td>\n",
       "      <td>100</td>\n",
       "      <td>Pass</td>\n",
       "      <td>10</td>\n",
       "      <td>77.0</td>\n",
       "    </tr>\n",
       "    <tr>\n",
       "      <th>996</th>\n",
       "      <td>male</td>\n",
       "      <td>group A</td>\n",
       "      <td>some college</td>\n",
       "      <td>standard</td>\n",
       "      <td>completed</td>\n",
       "      <td>100</td>\n",
       "      <td>96</td>\n",
       "      <td>86</td>\n",
       "      <td>Pass</td>\n",
       "      <td>10</td>\n",
       "      <td>77.0</td>\n",
       "    </tr>\n",
       "    <tr>\n",
       "      <th>515</th>\n",
       "      <td>female</td>\n",
       "      <td>group E</td>\n",
       "      <td>some college</td>\n",
       "      <td>standard</td>\n",
       "      <td>none</td>\n",
       "      <td>100</td>\n",
       "      <td>92</td>\n",
       "      <td>97</td>\n",
       "      <td>Pass</td>\n",
       "      <td>10</td>\n",
       "      <td>77.0</td>\n",
       "    </tr>\n",
       "    <tr>\n",
       "      <th>517</th>\n",
       "      <td>female</td>\n",
       "      <td>group E</td>\n",
       "      <td>associate's degree</td>\n",
       "      <td>standard</td>\n",
       "      <td>none</td>\n",
       "      <td>100</td>\n",
       "      <td>100</td>\n",
       "      <td>100</td>\n",
       "      <td>Pass</td>\n",
       "      <td>10</td>\n",
       "      <td>77.0</td>\n",
       "    </tr>\n",
       "    <tr>\n",
       "      <th>516</th>\n",
       "      <td>female</td>\n",
       "      <td>group E</td>\n",
       "      <td>bachelor's degree</td>\n",
       "      <td>standard</td>\n",
       "      <td>none</td>\n",
       "      <td>100</td>\n",
       "      <td>100</td>\n",
       "      <td>100</td>\n",
       "      <td>Pass</td>\n",
       "      <td>10</td>\n",
       "      <td>77.0</td>\n",
       "    </tr>\n",
       "    <tr>\n",
       "      <th>997</th>\n",
       "      <td>male</td>\n",
       "      <td>group D</td>\n",
       "      <td>some college</td>\n",
       "      <td>standard</td>\n",
       "      <td>completed</td>\n",
       "      <td>100</td>\n",
       "      <td>97</td>\n",
       "      <td>99</td>\n",
       "      <td>Pass</td>\n",
       "      <td>10</td>\n",
       "      <td>77.0</td>\n",
       "    </tr>\n",
       "    <tr>\n",
       "      <th>998</th>\n",
       "      <td>male</td>\n",
       "      <td>group E</td>\n",
       "      <td>associate's degree</td>\n",
       "      <td>free/reduced</td>\n",
       "      <td>completed</td>\n",
       "      <td>100</td>\n",
       "      <td>100</td>\n",
       "      <td>93</td>\n",
       "      <td>Pass</td>\n",
       "      <td>10</td>\n",
       "      <td>77.0</td>\n",
       "    </tr>\n",
       "    <tr>\n",
       "      <th>995</th>\n",
       "      <td>male</td>\n",
       "      <td>group E</td>\n",
       "      <td>some college</td>\n",
       "      <td>standard</td>\n",
       "      <td>completed</td>\n",
       "      <td>99</td>\n",
       "      <td>87</td>\n",
       "      <td>81</td>\n",
       "      <td>Pass</td>\n",
       "      <td>10</td>\n",
       "      <td>77.0</td>\n",
       "    </tr>\n",
       "    <tr>\n",
       "      <th>513</th>\n",
       "      <td>female</td>\n",
       "      <td>group E</td>\n",
       "      <td>bachelor's degree</td>\n",
       "      <td>standard</td>\n",
       "      <td>completed</td>\n",
       "      <td>99</td>\n",
       "      <td>100</td>\n",
       "      <td>100</td>\n",
       "      <td>Pass</td>\n",
       "      <td>10</td>\n",
       "      <td>77.0</td>\n",
       "    </tr>\n",
       "    <tr>\n",
       "      <th>514</th>\n",
       "      <td>female</td>\n",
       "      <td>group E</td>\n",
       "      <td>high school</td>\n",
       "      <td>standard</td>\n",
       "      <td>none</td>\n",
       "      <td>99</td>\n",
       "      <td>93</td>\n",
       "      <td>90</td>\n",
       "      <td>Pass</td>\n",
       "      <td>10</td>\n",
       "      <td>77.0</td>\n",
       "    </tr>\n",
       "  </tbody>\n",
       "</table>\n",
       "</div>"
      ],
      "text/plain": [
       "     gender race/ethnicity parental level of education         lunch  \\\n",
       "999    male        group E           bachelor's degree      standard   \n",
       "996    male        group A                some college      standard   \n",
       "515  female        group E                some college      standard   \n",
       "517  female        group E          associate's degree      standard   \n",
       "516  female        group E           bachelor's degree      standard   \n",
       "997    male        group D                some college      standard   \n",
       "998    male        group E          associate's degree  free/reduced   \n",
       "995    male        group E                some college      standard   \n",
       "513  female        group E           bachelor's degree      standard   \n",
       "514  female        group E                 high school      standard   \n",
       "\n",
       "    test preparation course  math score  reading score  writing score  \\\n",
       "999               completed         100            100            100   \n",
       "996               completed         100             96             86   \n",
       "515                    none         100             92             97   \n",
       "517                    none         100            100            100   \n",
       "516                    none         100            100            100   \n",
       "997               completed         100             97             99   \n",
       "998               completed         100            100             93   \n",
       "995               completed          99             87             81   \n",
       "513               completed          99            100            100   \n",
       "514                    none          99             93             90   \n",
       "\n",
       "    pass_math  bonus  math_score_75th_percentile  \n",
       "999      Pass     10                        77.0  \n",
       "996      Pass     10                        77.0  \n",
       "515      Pass     10                        77.0  \n",
       "517      Pass     10                        77.0  \n",
       "516      Pass     10                        77.0  \n",
       "997      Pass     10                        77.0  \n",
       "998      Pass     10                        77.0  \n",
       "995      Pass     10                        77.0  \n",
       "513      Pass     10                        77.0  \n",
       "514      Pass     10                        77.0  "
      ]
     },
     "execution_count": 102,
     "metadata": {},
     "output_type": "execute_result"
    }
   ],
   "source": [
    "data.head(10)"
   ]
  },
  {
   "cell_type": "code",
   "execution_count": 104,
   "id": "23c1fffe",
   "metadata": {
    "scrolled": true
   },
   "outputs": [
    {
     "name": "stdout",
     "output_type": "stream",
     "text": [
      "[10  0]\n"
     ]
    }
   ],
   "source": [
    "print(data['bonus'].unique())"
   ]
  },
  {
   "cell_type": "code",
   "execution_count": 105,
   "id": "d3db53b0",
   "metadata": {},
   "outputs": [
    {
     "data": {
      "text/plain": [
       "177"
      ]
     },
     "execution_count": 105,
     "metadata": {},
     "output_type": "execute_result"
    }
   ],
   "source": [
    "data['bonus'].value_counts()[10]"
   ]
  },
  {
   "cell_type": "code",
   "execution_count": 106,
   "id": "f63ee955",
   "metadata": {},
   "outputs": [
    {
     "data": {
      "text/plain": [
       "823"
      ]
     },
     "execution_count": 106,
     "metadata": {},
     "output_type": "execute_result"
    }
   ],
   "source": [
    "data['bonus'].value_counts()[0]"
   ]
  },
  {
   "cell_type": "markdown",
   "id": "ae8c40db",
   "metadata": {},
   "source": [
    "insights:\n",
    "\n",
    "Among 1000 students, 177 students are eligible for bonus point, say 10.\n"
   ]
  }
 ],
 "metadata": {
  "kernelspec": {
   "display_name": "Python 3 (ipykernel)",
   "language": "python",
   "name": "python3"
  },
  "language_info": {
   "codemirror_mode": {
    "name": "ipython",
    "version": 3
   },
   "file_extension": ".py",
   "mimetype": "text/x-python",
   "name": "python",
   "nbconvert_exporter": "python",
   "pygments_lexer": "ipython3",
   "version": "3.10.9"
  }
 },
 "nbformat": 4,
 "nbformat_minor": 5
}
